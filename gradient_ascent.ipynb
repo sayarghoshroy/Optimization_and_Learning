{
  "nbformat": 4,
  "nbformat_minor": 0,
  "metadata": {
    "colab": {
      "name": "gradient_ascent.ipynb",
      "provenance": [],
      "collapsed_sections": [],
      "authorship_tag": "ABX9TyN3gVO0zera8LrcYlbcYwGV",
      "include_colab_link": true
    },
    "kernelspec": {
      "name": "python3",
      "display_name": "Python 3"
    }
  },
  "cells": [
    {
      "cell_type": "markdown",
      "metadata": {
        "id": "view-in-github",
        "colab_type": "text"
      },
      "source": [
        "<a href=\"https://colab.research.google.com/github/sayarghoshroy/Optimization_and_Learning/blob/master/gradient_ascent.ipynb\" target=\"_parent\"><img src=\"https://colab.research.google.com/assets/colab-badge.svg\" alt=\"Open In Colab\"/></a>"
      ]
    },
    {
      "cell_type": "markdown",
      "metadata": {
        "id": "jA4ftbJEoIMh",
        "colab_type": "text"
      },
      "source": [
        "# $Problem\\ 5$\n",
        "\n",
        "## $Gradient\\ Ascent$"
      ]
    },
    {
      "cell_type": "markdown",
      "metadata": {
        "id": "MpaeogHZoUA5",
        "colab_type": "text"
      },
      "source": [
        "$Let\\ f(x) \\equiv 6 - (x_1^2(x_1^2 - 16) + x_2^2(x_2^2 - 9))$\n",
        "\n",
        "$\\implies f(x) \\equiv 6 - x_1^4 + 16x_1^2 - x_2^4 + 9x_2^2$\n",
        "\n",
        "$Now,\\ \\frac{\\partial f}{\\partial x_1} = -4x_1^3 + 32x_1$\n",
        "\n",
        "$And,\\ \\frac{\\partial f}{\\partial x_2} = -4x_2^3 + 18x_2$\n",
        "\n",
        "$Our\\ objective\\ is\\ to\\ maximize\\ f(x_1, x_2).$"
      ]
    },
    {
      "cell_type": "code",
      "metadata": {
        "id": "JQc9oHIFfzBw",
        "colab_type": "code",
        "colab": {}
      },
      "source": [
        "import numpy as np\n",
        "import matplotlib.pyplot as plt"
      ],
      "execution_count": 0,
      "outputs": []
    },
    {
      "cell_type": "code",
      "metadata": {
        "id": "O-k56XiQgPti",
        "colab_type": "code",
        "outputId": "cd81f9d6-b76c-4fb7-d884-af9072da2fbb",
        "colab": {
          "base_uri": "https://localhost:8080/",
          "height": 53
        }
      },
      "source": [
        "def f(x):\n",
        "    return 6 - np.power(x[0], 4) + 16 * np.power(x[0], 2) - np.power(x[1], 4) + 9 * np.power(x[1], 2)\n",
        "\n",
        "def get_partial(x):\n",
        "    partial = np.asarray([-4 * np.power(x[0], 3) + 32 * x[0], -4 * np.power(x[1], 3) + 18 * x[1]])\n",
        "    return partial\n",
        "\n",
        "def converged(previous_x, x):\n",
        "    threshold = 1e-8 # hyperparameter\n",
        "    difference = x - previous_x\n",
        "    if np.dot(difference, difference) < threshold:\n",
        "        return True\n",
        "    else:\n",
        "        return False\n",
        "\n",
        "x = 1 * np.ones(2) # initial point\n",
        "previous_x = -1 * np.ones(2)\n",
        "learn_rate = 1e-4\n",
        "\n",
        "f_values = [f(x)]\n",
        "\n",
        "# gradient ascent\n",
        "while converged(previous_x, x) == False:\n",
        "    updated = x + learn_rate * get_partial(x)\n",
        "    # ascent step\n",
        "    previous_x = x\n",
        "    x = updated\n",
        "    f_values.append(f(x))\n",
        "\n",
        "# Results:\n",
        "print(\"f* =\", f_values[-1])\n",
        "print(\"x* =\", x)"
      ],
      "execution_count": 0,
      "outputs": [
        {
          "output_type": "stream",
          "text": [
            "f* = 90.23601079557342\n",
            "x* = [2.82671939 2.09335113]\n"
          ],
          "name": "stdout"
        }
      ]
    },
    {
      "cell_type": "code",
      "metadata": {
        "id": "-n5UCUDRidXV",
        "colab_type": "code",
        "outputId": "2f93b73a-a72f-42da-c7a0-f64f68ac0d91",
        "colab": {
          "base_uri": "https://localhost:8080/",
          "height": 404
        }
      },
      "source": [
        "# Plotting the Ascent Curve\n",
        "fig = plt.figure(figsize = (8, 6))\n",
        "a = fig.add_subplot('111')\n",
        "a.set_title(\"Ascent Curve\")\n",
        "a.set_xlabel(\"Iteration\")\n",
        "a.set_ylabel(\"f\")\n",
        "a.plot([i for i in range(1, len(f_values) + 1)], f_values, color = 'green')\n",
        "plt.show()"
      ],
      "execution_count": 0,
      "outputs": [
        {
          "output_type": "display_data",
          "data": {
            "image/png": "[encoded data removed]",
            "text/plain": [
              "<Figure size 576x432 with 1 Axes>"
            ]
          },
          "metadata": {
            "tags": [],
            "needs_background": "light"
          }
        }
      ]
    },
    {
      "cell_type": "markdown",
      "metadata": {
        "id": "LpbOcUEIpvnC",
        "colab_type": "text"
      },
      "source": [
        "## $Thank\\ \\ You$"
      ]
    }
  ]
}